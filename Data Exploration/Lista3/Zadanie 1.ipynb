{
 "cells": [
  {
   "cell_type": "code",
   "execution_count": 1,
   "metadata": {
    "collapsed": true
   },
   "outputs": [],
   "source": [
    "import numpy as np\n",
    "import matplotlib.pyplot as plt"
   ]
  },
  {
   "cell_type": "code",
   "execution_count": 2,
   "metadata": {
    "collapsed": true
   },
   "outputs": [],
   "source": [
    "def KMeans(K, data):\n",
    "    d = np.size(data, axis=0)\n",
    "    N = np.size(data, axis=1)\n",
    "    \n",
    "    #Centra grup (losowe wektory z danych)\n",
    "    R = data[:, np.random.randint(N, size=K)]\n",
    "    #Przynależnosc do grupy (na poczatku wszyscy do zero)\n",
    "    C = np.zeros((1,N), dtype=np.int64)\n",
    "\n",
    "    groupsChanged = True\n",
    "    while groupsChanged:\n",
    "        #Interesuje nas minimalna wartość <r,r> -2<u,r>, gdzie u to wektor z danych a r to jakies centrum\n",
    "        iloczynySkalarne = -2. * np.dot(data.T, R)\n",
    "        R**=2\n",
    "        kwadratyDlugosciR = np.sum(R, axis=0, keepdims=True)\n",
    "        iloczynySkalarne += kwadratyDlugosciR\n",
    "\n",
    "        #Dla kazdego wektora z danych wybieramy najblizszy wektor z R i aktualizujemy grupy\n",
    "        newC = np.argmin(iloczynySkalarne, axis=1)\n",
    "        groupsChanged = np.array_equal(C, newC)\n",
    "        C = newC\n",
    "\n",
    "        #Obliczamy srodki ciezkosci dla kazdej grupy\n",
    "        macierzPrzynaleznosci = np.zeros((N,K))\n",
    "        for i in range(N):\n",
    "            macierzPrzynaleznosci[i][C[i]] = 1\n",
    "        #Sumy danych w każdej z grup\n",
    "        R = np.dot(data, macierzPrzynaleznosci)\n",
    "        liczebnosciGrup = np.sum(macierzPrzynaleznosci, axis=0, keepdims=True)\n",
    "        R /= liczebnosciGrup\n",
    "\n",
    "    return (C, R)"
   ]
  },
  {
   "cell_type": "code",
   "execution_count": null,
   "metadata": {
    "collapsed": true
   },
   "outputs": [],
   "source": [
    "np.random.multivariate_normal()\n",
    "N = 5000\n",
    "d = 2\n",
    "K = 5\n",
    "p = (1/K) * ones(d)\n",
    "mi = 3*np.arrange(1,K+1)"
   ]
  }
 ],
 "metadata": {
  "anaconda-cloud": {},
  "kernelspec": {
   "display_name": "Python [default]",
   "language": "python",
   "name": "python3"
  },
  "language_info": {
   "codemirror_mode": {
    "name": "ipython",
    "version": 3
   },
   "file_extension": ".py",
   "mimetype": "text/x-python",
   "name": "python",
   "nbconvert_exporter": "python",
   "pygments_lexer": "ipython3",
   "version": "3.5.2"
  }
 },
 "nbformat": 4,
 "nbformat_minor": 1
}
