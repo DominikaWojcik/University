{
 "cells": [
  {
   "cell_type": "code",
   "execution_count": 1,
   "metadata": {
    "collapsed": true
   },
   "outputs": [],
   "source": [
    "import numpy as np\n",
    "import matplotlib.pyplot as plt\n",
    "from mpl_toolkits.mplot3d import Axes3D\n",
    "import time"
   ]
  },
  {
   "cell_type": "code",
   "execution_count": 2,
   "metadata": {
    "collapsed": true
   },
   "outputs": [],
   "source": [
    "def KMeans(K, data):\n",
    "    d = np.size(data, axis=0)\n",
    "    N = np.size(data, axis=1)\n",
    "    \n",
    "    #Centra grup (losowe wektory z danych)\n",
    "    R = np.empty([d,K])\n",
    "    choices = np.random.choice(np.arange(0,N), K, replace=False)\n",
    "    for i in range(K):\n",
    "        R[:,i] = data[:, choices[i]]\n",
    "    #Przynależnosc do grupy (na poczatku wszyscy do zero)\n",
    "    C = np.zeros((1,N), dtype=np.int64)\n",
    "\n",
    "    iteration = 0\n",
    "    groupsChanged = True\n",
    "    while groupsChanged:\n",
    "        iteration += 1\n",
    "        #Interesuje nas minimalna wartość <r,r> -2<u,r>, gdzie u to wektor z danych a r to jakies centrum\n",
    "        iloczynySkalarne = -2. * np.dot(data.T, R)\n",
    "        R**=2\n",
    "        kwadratyDlugosciR = np.sum(R, axis=0, keepdims=True)\n",
    "        iloczynySkalarne += kwadratyDlugosciR\n",
    "\n",
    "        #Dla kazdego wektora z danych wybieramy najblizszy wektor z R i aktualizujemy grupy\n",
    "        newC = np.argmin(iloczynySkalarne, axis=1)\n",
    "        groupsChanged = not np.array_equal(C, newC)\n",
    "        C = newC\n",
    "\n",
    "        #Obliczamy srodki ciezkosci dla kazdej grupy\n",
    "        macierzPrzynaleznosci = np.zeros((N,K))\n",
    "        for i in range(N):\n",
    "            macierzPrzynaleznosci[i][C[i]] = 1\n",
    "        #Sumy danych w każdej z grup\n",
    "        R = np.dot(data, macierzPrzynaleznosci)\n",
    "        liczebnosciGrup = np.sum(macierzPrzynaleznosci, axis=0, keepdims=True)\n",
    "        R /= liczebnosciGrup\n",
    "\n",
    "    print(\"Iterations:\", iteration)\n",
    "    return (C, R)"
   ]
  },
  {
   "cell_type": "code",
   "execution_count": null,
   "metadata": {
    "collapsed": true
   },
   "outputs": [],
   "source": [
    "def generateData(N,d,K,p,mi,sigma):\n",
    "    L = [np.linalg.cholesky(sigma[i]) for i in range(len(sigma))]\n",
    "    choices = np.random.choice(np.arange(0,K), N, p=p)\n",
    "    data = np.random.randn(d,N)\n",
    "    \n",
    "    #Jeśli X ~ N(mi, sigma) oraz Y = c + B*X, \n",
    "    #to Y ~ N(c + B * mi, B*sigma*B^T)\n",
    "    #Jak wezmę X ~ N(zeros, I), c = mi oraz B = L, \n",
    "    #gdzie sigma = L*L^T, to otrzymam Y ~ N(mi + L*zeros, L*I*L^T) =\n",
    "    # N(mi, L*L^T) = N(mi, sigma)\n",
    "    \n",
    "    for i in range(N):\n",
    "        data[:,i] = mi[:,choices[i]] + np.dot(L[choices[i]], data[:,i])\n",
    "        \n",
    "    return data"
   ]
  },
  {
   "cell_type": "code",
   "execution_count": null,
   "metadata": {
    "collapsed": true
   },
   "outputs": [],
   "source": [
    "N = 100000\n",
    "d = 1000\n",
    "K = 1000\n",
    "p = np.ones(K) / K\n",
    "q = 10\n",
    "mi = np.repeat(q*np.arange(1,K+1)[np.newaxis], d, axis=0)\n",
    "sigma = [np.eye(d) for i in range(1,K+1)]\n",
    "\n",
    "data = generateData(N,d,K,p,mi,sigma)\n"
   ]
  },
  {
   "cell_type": "code",
   "execution_count": null,
   "metadata": {
    "collapsed": true
   },
   "outputs": [],
   "source": []
  },
  {
   "cell_type": "code",
   "execution_count": null,
   "metadata": {
    "collapsed": true
   },
   "outputs": [],
   "source": []
  },
  {
   "cell_type": "code",
   "execution_count": null,
   "metadata": {
    "collapsed": true
   },
   "outputs": [],
   "source": []
  }
 ],
 "metadata": {
  "anaconda-cloud": {},
  "kernelspec": {
   "display_name": "Python [default]",
   "language": "python",
   "name": "python3"
  },
  "language_info": {
   "codemirror_mode": {
    "name": "ipython",
    "version": 3
   },
   "file_extension": ".py",
   "mimetype": "text/x-python",
   "name": "python",
   "nbconvert_exporter": "python",
   "pygments_lexer": "ipython3",
   "version": "3.5.2"
  }
 },
 "nbformat": 4,
 "nbformat_minor": 1
}
