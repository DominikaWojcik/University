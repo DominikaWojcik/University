{
 "cells": [
  {
   "cell_type": "code",
   "execution_count": 18,
   "metadata": {
    "collapsed": true
   },
   "outputs": [],
   "source": [
    "import numpy as np\n",
    "import time"
   ]
  },
  {
   "cell_type": "code",
   "execution_count": 31,
   "metadata": {
    "collapsed": true
   },
   "outputs": [],
   "source": [
    "def KMeans(K, data):\n",
    "    startTime = time.time()\n",
    "    \n",
    "    d = np.size(data, axis=0)\n",
    "    N = np.size(data, axis=1)\n",
    "    I = np.eye(K)\n",
    "    \n",
    "    #Centra grup (losowe wektory z danych)\n",
    "    #R = np.take(data, np.random.choice(np.arange(0,N), K, replace=False), axis=1)\n",
    "    R = np.empty([d,K])\n",
    "    choices = np.random.choice(np.arange(0,N), K, replace=False)\n",
    "    for i in range(K):\n",
    "        R[:,i] = data[:, choices[i]]\n",
    "    #Przynależnosc do grupy (na poczatku wszyscy do zero)\n",
    "    C = np.zeros((1,N), dtype=np.int64)\n",
    "    #macierzPrzynaleznosci = np.zeros((N,K))\n",
    "\n",
    "    iteration = 0\n",
    "    groupsChanged = True\n",
    "    while groupsChanged:\n",
    "        iteration += 1\n",
    "        #Interesuje nas minimalna wartość <r,r> -2<u,r>, gdzie u to wektor z danych a r to jakies centrum\n",
    "        iloczynySkalarne = -2. * np.dot(data.T, R)\n",
    "        R**=2\n",
    "        kwadratyDlugosciR = np.sum(R, axis=0, keepdims=True)\n",
    "        iloczynySkalarne += kwadratyDlugosciR\n",
    "\n",
    "        #Dla kazdego wektora z danych wybieramy najblizszy wektor z R i aktualizujemy grupy\n",
    "        newC = np.argmin(iloczynySkalarne, axis=1)\n",
    "        groupsChanged = not np.array_equal(C, newC)\n",
    "        C = newC\n",
    "\n",
    "        #Obliczamy srodki ciezkosci dla kazdej grupy\n",
    "        macierzPrzynaleznosci = np.take(I, C, axis=0)\n",
    "        #Sumy danych w każdej z grup\n",
    "        R = np.dot(data, macierzPrzynaleznosci)\n",
    "        liczebnosciGrup = np.maximum(np.sum(macierzPrzynaleznosci, axis=0, keepdims=True), 1)\n",
    "        R /= liczebnosciGrup\n",
    "\n",
    "    endTime = time.time()\n",
    "    print(\"Iterations:\", iteration)\n",
    "    print(\"K-Means done in %s seconds\" % (endTime - startTime))\n",
    "    return (C, R)"
   ]
  },
  {
   "cell_type": "code",
   "execution_count": 20,
   "metadata": {
    "collapsed": false
   },
   "outputs": [],
   "source": [
    "#Wczytujemy wszystkie transakcje do listy\n",
    "transactions = [[int(id) for id in line.split()] for line in open(\"kosarak.dat\")]"
   ]
  },
  {
   "cell_type": "code",
   "execution_count": 21,
   "metadata": {
    "collapsed": false
   },
   "outputs": [],
   "source": [
    "occurences = {}\n",
    "\n",
    "for i in range(len(transactions)):\n",
    "    for j in range(len(transactions[i])):\n",
    "        if not transactions[i][j] in occurences:\n",
    "            occurences[transactions[i][j]] = 0\n",
    "        occurences[transactions[i][j]] += 1\n",
    "        \n",
    "mostPopular = sorted(occurences, key=occurences.__getitem__, reverse=True)"
   ]
  },
  {
   "cell_type": "code",
   "execution_count": 24,
   "metadata": {
    "collapsed": false
   },
   "outputs": [],
   "source": [
    "def getDataForTMostPopular(transactions, mostPopular, T):\n",
    "    order = {mostPopular[i] : i for i in range(T)}\n",
    "    \n",
    "    p = np.zeros((T,T))\n",
    "    \n",
    "    for i in range(len(transactions)):\n",
    "        fromTMostPop = [order[id] for id in transactions[i] if id in order]\n",
    "        for j in fromTMostPop:\n",
    "            for k in fromTMostPop:\n",
    "                p[j][k] += 1 if j != k else 0\n",
    "    \n",
    "    return p, order"
   ]
  },
  {
   "cell_type": "code",
   "execution_count": 33,
   "metadata": {
    "collapsed": false
   },
   "outputs": [
    {
     "name": "stdout",
     "output_type": "stream",
     "text": [
      "Data generated\n"
     ]
    }
   ],
   "source": [
    "T = 1000\n",
    "data, order = getDataForTMostPopular(transactions, mostPopular, T)\n",
    "print(\"Data generated\")"
   ]
  },
  {
   "cell_type": "code",
   "execution_count": 32,
   "metadata": {
    "collapsed": false
   },
   "outputs": [
    {
     "name": "stdout",
     "output_type": "stream",
     "text": [
      "Iterations: 30\n",
      "K-Means done in 0.14215469360351562 seconds\n"
     ]
    }
   ],
   "source": [
    "groups, centers = KMeans(5, data)"
   ]
  },
  {
   "cell_type": "code",
   "execution_count": null,
   "metadata": {
    "collapsed": true
   },
   "outputs": [],
   "source": []
  }
 ],
 "metadata": {
  "anaconda-cloud": {},
  "kernelspec": {
   "display_name": "Python [default]",
   "language": "python",
   "name": "python3"
  },
  "language_info": {
   "codemirror_mode": {
    "name": "ipython",
    "version": 3
   },
   "file_extension": ".py",
   "mimetype": "text/x-python",
   "name": "python",
   "nbconvert_exporter": "python",
   "pygments_lexer": "ipython3",
   "version": "3.5.2"
  }
 },
 "nbformat": 4,
 "nbformat_minor": 1
}
